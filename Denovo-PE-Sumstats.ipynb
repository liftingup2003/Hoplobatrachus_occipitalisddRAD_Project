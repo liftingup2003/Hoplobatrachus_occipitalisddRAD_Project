{
 "cells": [
  {
   "cell_type": "code",
   "execution_count": 1,
   "id": "121223f6-207d-40cd-90c6-b363e946a34f",
   "metadata": {},
   "outputs": [
    {
     "data": {
      "text/plain": [
       "40"
      ]
     },
     "execution_count": 1,
     "metadata": {},
     "output_type": "execute_result"
    }
   ],
   "source": [
    "%load_ext autoreload\n",
    "%autoreload 2\n",
    "\n",
    "import ipyrad.analysis as ipa\n",
    "import ipyparallel as ipp\n",
    "import pandas as pd\n",
    "import numpy as np\n",
    "from ipyrad.analysis.popgen import Popgen\n",
    "\n",
    "ipyclient = ipp.Client(cluster_id=\"popgen\")\n",
    "len(ipyclient)"
   ]
  },
  {
   "cell_type": "code",
   "execution_count": 2,
   "id": "ad3dcc6a-a379-4819-b980-4a3654c2b93d",
   "metadata": {},
   "outputs": [
    {
     "data": {
      "text/html": [
       "<div>\n",
       "<style scoped>\n",
       "    .dataframe tbody tr th:only-of-type {\n",
       "        vertical-align: middle;\n",
       "    }\n",
       "\n",
       "    .dataframe tbody tr th {\n",
       "        vertical-align: top;\n",
       "    }\n",
       "\n",
       "    .dataframe thead th {\n",
       "        text-align: right;\n",
       "    }\n",
       "</style>\n",
       "<table border=\"1\" class=\"dataframe\">\n",
       "  <thead>\n",
       "    <tr style=\"text-align: right;\">\n",
       "      <th></th>\n",
       "      <th>Vegetation zone</th>\n",
       "      <th>longitude</th>\n",
       "      <th>Location</th>\n",
       "      <th>Sample ID</th>\n",
       "    </tr>\n",
       "    <tr>\n",
       "      <th>Seq ID</th>\n",
       "      <th></th>\n",
       "      <th></th>\n",
       "      <th></th>\n",
       "      <th></th>\n",
       "    </tr>\n",
       "  </thead>\n",
       "  <tbody>\n",
       "    <tr>\n",
       "      <th>HOOC0001</th>\n",
       "      <td>Mangrove Forest</td>\n",
       "      <td>BAIK</td>\n",
       "      <td>Badagry</td>\n",
       "      <td>HBG 1</td>\n",
       "    </tr>\n",
       "    <tr>\n",
       "      <th>HOOC0002</th>\n",
       "      <td>Mangrove Forest</td>\n",
       "      <td>BAIK</td>\n",
       "      <td>Ikorodu</td>\n",
       "      <td>HIK3</td>\n",
       "    </tr>\n",
       "    <tr>\n",
       "      <th>HOOC0003</th>\n",
       "      <td>Mangrove Forest</td>\n",
       "      <td>EIBSI</td>\n",
       "      <td>Epe</td>\n",
       "      <td>HEP6</td>\n",
       "    </tr>\n",
       "    <tr>\n",
       "      <th>HOOC0004</th>\n",
       "      <td>Rainforest</td>\n",
       "      <td>EIBSI</td>\n",
       "      <td>Ibadan</td>\n",
       "      <td>HIB 9</td>\n",
       "    </tr>\n",
       "    <tr>\n",
       "      <th>HOOC0005</th>\n",
       "      <td>Rainforest</td>\n",
       "      <td>ADIF</td>\n",
       "      <td>Ifetedo</td>\n",
       "      <td>H IF 1</td>\n",
       "    </tr>\n",
       "    <tr>\n",
       "      <th>...</th>\n",
       "      <td>...</td>\n",
       "      <td>...</td>\n",
       "      <td>...</td>\n",
       "      <td>...</td>\n",
       "    </tr>\n",
       "    <tr>\n",
       "      <th>HOOC0092</th>\n",
       "      <td>Rainforest</td>\n",
       "      <td>BAIK</td>\n",
       "      <td>Abeokuta</td>\n",
       "      <td>HAB10</td>\n",
       "    </tr>\n",
       "    <tr>\n",
       "      <th>HOOC0093</th>\n",
       "      <td>Derived savanna</td>\n",
       "      <td>EIBSI</td>\n",
       "      <td>Iwo</td>\n",
       "      <td>HIW2</td>\n",
       "    </tr>\n",
       "    <tr>\n",
       "      <th>HOOC0094</th>\n",
       "      <td>Derived savanna</td>\n",
       "      <td>ADIF</td>\n",
       "      <td>Ado</td>\n",
       "      <td>H AD 4</td>\n",
       "    </tr>\n",
       "    <tr>\n",
       "      <th>HOOC0095</th>\n",
       "      <td>Derived savanna</td>\n",
       "      <td>EIBSI</td>\n",
       "      <td>Soku</td>\n",
       "      <td>HSK8</td>\n",
       "    </tr>\n",
       "    <tr>\n",
       "      <th>HOOC0096</th>\n",
       "      <td>Giunea savanna</td>\n",
       "      <td>EIBSI</td>\n",
       "      <td>Igbeti</td>\n",
       "      <td>HIG10</td>\n",
       "    </tr>\n",
       "  </tbody>\n",
       "</table>\n",
       "<p>93 rows × 4 columns</p>\n",
       "</div>"
      ],
      "text/plain": [
       "          Vegetation zone longitude  Location Sample ID\n",
       "Seq ID                                                 \n",
       "HOOC0001  Mangrove Forest      BAIK   Badagry     HBG 1\n",
       "HOOC0002  Mangrove Forest      BAIK   Ikorodu      HIK3\n",
       "HOOC0003  Mangrove Forest     EIBSI       Epe      HEP6\n",
       "HOOC0004       Rainforest     EIBSI    Ibadan     HIB 9\n",
       "HOOC0005       Rainforest      ADIF   Ifetedo    H IF 1\n",
       "...                   ...       ...       ...       ...\n",
       "HOOC0092       Rainforest      BAIK  Abeokuta     HAB10\n",
       "HOOC0093  Derived savanna     EIBSI       Iwo      HIW2\n",
       "HOOC0094  Derived savanna      ADIF       Ado    H AD 4\n",
       "HOOC0095  Derived savanna     EIBSI      Soku      HSK8\n",
       "HOOC0096   Giunea savanna     EIBSI    Igbeti    HIG10 \n",
       "\n",
       "[93 rows x 4 columns]"
      ]
     },
     "execution_count": 2,
     "metadata": {},
     "output_type": "execute_result"
    }
   ],
   "source": [
    "data = \"./hoplo_assembly/Hoplo-PE_outfiles/Hoplonew.seqs.hdf5\"\n",
    "\n",
    "# Edited metadata file by hand to remove HOOC0024, HOOC0039, HOOC0047 (failed library prep)\n",
    "metadata = pd.read_csv(\"Hoplo_metadata_transpose_V2.csv\", index_col=\"Seq ID\")\n",
    "metadata = metadata.drop([\"HOOC0024\", \"HOOC0039\", \"HOOC0047\"])\n",
    "#metadata.index = [x+\".trimmed\" for x in metadata.index]\n",
    "metadata"
   ]
  },
  {
   "cell_type": "code",
   "execution_count": 3,
   "id": "79e66abe-20ff-4981-b41d-c2dc386bc2cf",
   "metadata": {},
   "outputs": [
    {
     "data": {
      "text/plain": [
       "{'Derived savanna': ['HOOC0006', 'HOOC0007', 'HOOC0008', 'HOOC0014', 'HOOC0015', 'HOOC0016', 'HOOC0022', 'HOOC0023', 'HOOC0030', 'HOOC0031', 'HOOC0038', 'HOOC0046', 'HOOC0054', 'HOOC0055', 'HOOC0062', 'HOOC0063', 'HOOC0070', 'HOOC0071', 'HOOC0078', 'HOOC0079', 'HOOC0085', 'HOOC0086', 'HOOC0087', 'HOOC0093', 'HOOC0094', 'HOOC0095'], 'Giunea savanna': ['HOOC0032', 'HOOC0040', 'HOOC0048', 'HOOC0056', 'HOOC0064', 'HOOC0072', 'HOOC0080', 'HOOC0088', 'HOOC0096'], 'Mangrove Forest': ['HOOC0001', 'HOOC0002', 'HOOC0003', 'HOOC0009', 'HOOC0010', 'HOOC0011', 'HOOC0017', 'HOOC0018', 'HOOC0019', 'HOOC0025', 'HOOC0026', 'HOOC0027', 'HOOC0033', 'HOOC0034', 'HOOC0035', 'HOOC0041', 'HOOC0042', 'HOOC0049', 'HOOC0050', 'HOOC0057', 'HOOC0058', 'HOOC0065', 'HOOC0066', 'HOOC0073', 'HOOC0074', 'HOOC0081', 'HOOC0082', 'HOOC0089', 'HOOC0090'], 'Rainforest': ['HOOC0004', 'HOOC0005', 'HOOC0012', 'HOOC0013', 'HOOC0020', 'HOOC0021', 'HOOC0028', 'HOOC0029', 'HOOC0036', 'HOOC0037', 'HOOC0043', 'HOOC0044', 'HOOC0045', 'HOOC0051', 'HOOC0052', 'HOOC0053', 'HOOC0059', 'HOOC0060', 'HOOC0061', 'HOOC0067', 'HOOC0068', 'HOOC0069', 'HOOC0075', 'HOOC0076', 'HOOC0077', 'HOOC0083', 'HOOC0084', 'HOOC0091', 'HOOC0092']}"
      ]
     },
     "execution_count": 3,
     "metadata": {},
     "output_type": "execute_result"
    }
   ],
   "source": [
    "imap = metadata.groupby(\"Vegetation zone\").groups\n",
    "imap"
   ]
  },
  {
   "cell_type": "code",
   "execution_count": null,
   "id": "55ca403d-1887-4df1-82fc-71ab3e6d2de4",
   "metadata": {},
   "outputs": [
    {
     "name": "stdout",
     "output_type": "stream",
     "text": [
      "Parallel connection | tdobz: 40 cores\n",
      "[locus filter] full data: 347215\n",
      "[locus filter] post filter: 347215\n",
      "[####################] 100% 0:08:10 | Calculating sumstats for nloci 347215 \n",
      "[                    ]   0% 0:00:00 | Collating sumstats for npops 4 "
     ]
    },
    {
     "name": "stderr",
     "output_type": "stream",
     "text": [
      "/home/iovercast/src/ipyrad/ipyrad/analysis/popgen.py:357: FutureWarning: ChainedAssignmentError: behaviour will change in pandas 3.0!\n",
      "You are setting values through chained assignment. Currently this works in certain cases, but when using Copy-on-Write (which will become the default behaviour in pandas 3.0) this will never work to update the original DataFrame or Series, because the intermediate object on which we are setting values will behave as a copy.\n",
      "A typical example is when you are setting values in a column of a DataFrame, like:\n",
      "\n",
      "df[\"col\"][row_indexer] = value\n",
      "\n",
      "Use `df.loc[row_indexer, \"col\"] = values` instead, to perform the assignment in a single step and ensure this keeps updating the original `df`.\n",
      "\n",
      "See the caveats in the documentation: https://pandas.pydata.org/pandas-docs/stable/user_guide/indexing.html#returning-a-view-versus-a-copy\n",
      "\n",
      "  popstats[pop][\"pi\"].loc[lidx] = pi_dict[lidx][pop][\"pi_per_base\"]\n",
      "/home/iovercast/src/ipyrad/ipyrad/analysis/popgen.py:358: FutureWarning: ChainedAssignmentError: behaviour will change in pandas 3.0!\n",
      "You are setting values through chained assignment. Currently this works in certain cases, but when using Copy-on-Write (which will become the default behaviour in pandas 3.0) this will never work to update the original DataFrame or Series, because the intermediate object on which we are setting values will behave as a copy.\n",
      "A typical example is when you are setting values in a column of a DataFrame, like:\n",
      "\n",
      "df[\"col\"][row_indexer] = value\n",
      "\n",
      "Use `df.loc[row_indexer, \"col\"] = values` instead, to perform the assignment in a single step and ensure this keeps updating the original `df`.\n",
      "\n",
      "See the caveats in the documentation: https://pandas.pydata.org/pandas-docs/stable/user_guide/indexing.html#returning-a-view-versus-a-copy\n",
      "\n",
      "  popstats[pop][\"raw_pi\"].loc[lidx] = pi_dict[lidx][pop][\"pi\"]\n",
      "/home/iovercast/src/ipyrad/ipyrad/analysis/popgen.py:359: FutureWarning: ChainedAssignmentError: behaviour will change in pandas 3.0!\n",
      "You are setting values through chained assignment. Currently this works in certain cases, but when using Copy-on-Write (which will become the default behaviour in pandas 3.0) this will never work to update the original DataFrame or Series, because the intermediate object on which we are setting values will behave as a copy.\n",
      "A typical example is when you are setting values in a column of a DataFrame, like:\n",
      "\n",
      "df[\"col\"][row_indexer] = value\n",
      "\n",
      "Use `df.loc[row_indexer, \"col\"] = values` instead, to perform the assignment in a single step and ensure this keeps updating the original `df`.\n",
      "\n",
      "See the caveats in the documentation: https://pandas.pydata.org/pandas-docs/stable/user_guide/indexing.html#returning-a-view-versus-a-copy\n",
      "\n",
      "  popstats[pop][\"Watterson\"].loc[lidx] = w_theta_dict[lidx][pop][\"w_theta_per_base\"]\n",
      "/home/iovercast/src/ipyrad/ipyrad/analysis/popgen.py:360: FutureWarning: ChainedAssignmentError: behaviour will change in pandas 3.0!\n",
      "You are setting values through chained assignment. Currently this works in certain cases, but when using Copy-on-Write (which will become the default behaviour in pandas 3.0) this will never work to update the original DataFrame or Series, because the intermediate object on which we are setting values will behave as a copy.\n",
      "A typical example is when you are setting values in a column of a DataFrame, like:\n",
      "\n",
      "df[\"col\"][row_indexer] = value\n",
      "\n",
      "Use `df.loc[row_indexer, \"col\"] = values` instead, to perform the assignment in a single step and ensure this keeps updating the original `df`.\n",
      "\n",
      "See the caveats in the documentation: https://pandas.pydata.org/pandas-docs/stable/user_guide/indexing.html#returning-a-view-versus-a-copy\n",
      "\n",
      "  popstats[pop][\"raw_Watterson\"].loc[lidx] = w_theta_dict[lidx][pop][\"w_theta\"]\n",
      "/home/iovercast/src/ipyrad/ipyrad/analysis/popgen.py:361: FutureWarning: ChainedAssignmentError: behaviour will change in pandas 3.0!\n",
      "You are setting values through chained assignment. Currently this works in certain cases, but when using Copy-on-Write (which will become the default behaviour in pandas 3.0) this will never work to update the original DataFrame or Series, because the intermediate object on which we are setting values will behave as a copy.\n",
      "A typical example is when you are setting values in a column of a DataFrame, like:\n",
      "\n",
      "df[\"col\"][row_indexer] = value\n",
      "\n",
      "Use `df.loc[row_indexer, \"col\"] = values` instead, to perform the assignment in a single step and ensure this keeps updating the original `df`.\n",
      "\n",
      "See the caveats in the documentation: https://pandas.pydata.org/pandas-docs/stable/user_guide/indexing.html#returning-a-view-versus-a-copy\n",
      "\n",
      "  popstats[pop][\"TajimasD\"].loc[lidx] = tajd_dict[lidx][pop]\n"
     ]
    }
   ],
   "source": [
    "popgen = Popgen(data=data, imap=imap)\n",
    "popgen.run(ipyclient=ipyclient)"
   ]
  },
  {
   "cell_type": "code",
   "execution_count": 10,
   "id": "823e4ab8-b34f-4dd4-b8ac-23161addd809",
   "metadata": {},
   "outputs": [
    {
     "data": {
      "text/html": [
       "<div>\n",
       "<style scoped>\n",
       "    .dataframe tbody tr th:only-of-type {\n",
       "        vertical-align: middle;\n",
       "    }\n",
       "\n",
       "    .dataframe tbody tr th {\n",
       "        vertical-align: top;\n",
       "    }\n",
       "\n",
       "    .dataframe thead th {\n",
       "        text-align: right;\n",
       "    }\n",
       "</style>\n",
       "<table border=\"1\" class=\"dataframe\">\n",
       "  <thead>\n",
       "    <tr style=\"text-align: right;\">\n",
       "      <th></th>\n",
       "      <th>mean_pi</th>\n",
       "      <th>mean_Watterson</th>\n",
       "      <th>mean_TajimasD</th>\n",
       "    </tr>\n",
       "  </thead>\n",
       "  <tbody>\n",
       "    <tr>\n",
       "      <th>Derived savanna</th>\n",
       "      <td>0.004</td>\n",
       "      <td>0.002</td>\n",
       "      <td>0.605</td>\n",
       "    </tr>\n",
       "    <tr>\n",
       "      <th>Giunea savanna</th>\n",
       "      <td>0.003</td>\n",
       "      <td>0.001</td>\n",
       "      <td>0.7</td>\n",
       "    </tr>\n",
       "    <tr>\n",
       "      <th>Mangrove Forest</th>\n",
       "      <td>0.003</td>\n",
       "      <td>0.001</td>\n",
       "      <td>0.358</td>\n",
       "    </tr>\n",
       "    <tr>\n",
       "      <th>Rainforest</th>\n",
       "      <td>0.004</td>\n",
       "      <td>0.002</td>\n",
       "      <td>0.455</td>\n",
       "    </tr>\n",
       "  </tbody>\n",
       "</table>\n",
       "</div>"
      ],
      "text/plain": [
       "                mean_pi mean_Watterson mean_TajimasD\n",
       "Derived savanna   0.004          0.002         0.605\n",
       "Giunea savanna    0.003          0.001           0.7\n",
       "Mangrove Forest   0.003          0.001         0.358\n",
       "Rainforest        0.004          0.002         0.455"
      ]
     },
     "execution_count": 10,
     "metadata": {},
     "output_type": "execute_result"
    }
   ],
   "source": [
    "popgen.results[\"within\"]"
   ]
  },
  {
   "cell_type": "code",
   "execution_count": 11,
   "id": "0cbfe98e-c387-4955-b28f-3db7381d371b",
   "metadata": {},
   "outputs": [
    {
     "data": {
      "text/plain": [
       "between   {'Dxy':                  Derived savanna  Giunea savanna  Mangrove Forest  Rainforest\n",
       "Derived savanna              0.0             0.0              0.0         0.0\n",
       "Giunea savanna               0.0             0.0              0.0         0.0\n",
       "Mangrove Forest              0.0             0.0              0.0         0.0\n",
       "Rainforest                   0.0             0.0              0.0         0.0}\n",
       "within                    mean_pi mean_Watterson mean_TajimasD\n",
       "Derived savanna   0.004          0.002         0.605\n",
       "Giunea savanna    0.003          0.001           0.7\n",
       "Mangrove Forest   0.003          0.001         0.358\n",
       "Rainforest        0.004          0.002         0.455"
      ]
     },
     "execution_count": 11,
     "metadata": {},
     "output_type": "execute_result"
    }
   ],
   "source": []
  },
  {
   "cell_type": "markdown",
   "id": "8663cbba-aed2-4e9d-94af-b4051b1779d4",
   "metadata": {},
   "source": [
    "## Calculate popgen sumstats per site"
   ]
  },
  {
   "cell_type": "code",
   "execution_count": null,
   "id": "34f747d8-62f7-4024-97b0-5b8dd88baea4",
   "metadata": {},
   "outputs": [
    {
     "name": "stdout",
     "output_type": "stream",
     "text": [
      "Parallel connection | tdobz: 40 cores\n",
      "[locus filter] full data: 347215\n"
     ]
    }
   ],
   "source": [
    "imap = metadata.groupby(\"Vegetation zone\").groups\n",
    "popgen_loc = Popgen(data=data, imap=imap)\n",
    "popgen_loc.run(ipyclient=ipyclient)"
   ]
  },
  {
   "cell_type": "code",
   "execution_count": null,
   "id": "7065b75b-a80b-426e-9689-6f92f8116eda",
   "metadata": {},
   "outputs": [],
   "source": []
  }
 ],
 "metadata": {
  "kernelspec": {
   "display_name": "Python 3 (ipykernel)",
   "language": "python",
   "name": "python3"
  },
  "language_info": {
   "codemirror_mode": {
    "name": "ipython",
    "version": 3
   },
   "file_extension": ".py",
   "mimetype": "text/x-python",
   "name": "python",
   "nbconvert_exporter": "python",
   "pygments_lexer": "ipython3",
   "version": "3.12.2"
  }
 },
 "nbformat": 4,
 "nbformat_minor": 5
}
